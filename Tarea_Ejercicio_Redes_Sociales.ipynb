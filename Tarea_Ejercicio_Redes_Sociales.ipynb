{
  "nbformat": 4,
  "nbformat_minor": 0,
  "metadata": {
    "colab": {
      "name": "Tarea_Ejercicio_Redes_Sociales.ipynb",
      "provenance": [],
      "authorship_tag": "ABX9TyNF9MQAg+89DVQ9GOkGeZca",
      "include_colab_link": true
    },
    "kernelspec": {
      "name": "python3",
      "display_name": "Python 3"
    },
    "language_info": {
      "name": "python"
    }
  },
  "cells": [
    {
      "cell_type": "markdown",
      "metadata": {
        "id": "view-in-github",
        "colab_type": "text"
      },
      "source": [
        "<a href=\"https://colab.research.google.com/github/jaasielsoto/EDD_1358./blob/EDD/Tarea_Ejercicio_Redes_Sociales.ipynb\" target=\"_parent\"><img src=\"https://colab.research.google.com/assets/colab-badge.svg\" alt=\"Open In Colab\"/></a>"
      ]
    },
    {
      "cell_type": "code",
      "source": [
        "##codigo para cargar el archivo \n",
        "from google.colab import files \n",
        "files.upload()\n"
      ],
      "metadata": {
        "colab": {
          "resources": {
            "http://localhost:8080/nbextensions/google.colab/files.js": {
              "data": "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",
              "ok": true,
              "headers": [
                [
                  "content-type",
                  "application/javascript"
                ]
              ],
              "status": 200,
              "status_text": ""
            }
          },
          "base_uri": "https://localhost:8080/",
          "height": 266
        },
        "id": "CbBnbXzv5pOt",
        "outputId": "f8fbcd93-ea04-493c-841d-6695dbcb3e7c"
      },
      "execution_count": 12,
      "outputs": [
        {
          "output_type": "display_data",
          "data": {
            "text/plain": [
              "<IPython.core.display.HTML object>"
            ],
            "text/html": [
              "\n",
              "     <input type=\"file\" id=\"files-e247de5a-452c-49ca-98c5-886445492db5\" name=\"files[]\" multiple disabled\n",
              "        style=\"border:none\" />\n",
              "     <output id=\"result-e247de5a-452c-49ca-98c5-886445492db5\">\n",
              "      Upload widget is only available when the cell has been executed in the\n",
              "      current browser session. Please rerun this cell to enable.\n",
              "      </output>\n",
              "      <script src=\"/nbextensions/google.colab/files.js\"></script> "
            ]
          },
          "metadata": {}
        },
        {
          "output_type": "stream",
          "name": "stdout",
          "text": [
            "Saving presenciaredes.csv to presenciaredes.csv\n"
          ]
        },
        {
          "output_type": "execute_result",
          "data": {
            "text/plain": [
              "{'presenciaredes.csv': b'\\xef\\xbb\\xbfRED SOCIAL,CONCEPTO,A\\xc3\\x91O,ENERO,FEBRERO,MARZO,ABRIL,MAYO,JUNIO,JULIO,AGOSTO,SEPTIEMBRE,OCTUBRE,NOVIEMBRE,DICIEMBRE,\\r\\nFACEBOOK,SEGUIDORES,2020,152107,156957,160595,165180,170488,178413,0,0,0,0,0,0,\\r\\nFACEBOOK,CRECIMIENTO (SEGUIDORES),2020,660,4850,3638,4585,5308,7925,0,0,0,0,0,0,\\r\\nFACEBOOK,PORCENTAJE DE CRECIMIENTO ,2020,0.43%,3%,2%,3%,3%,4%,0%,0%,0%,0%,0%,0%,\\r\\nFACEBOOK,PUBLICACIONES ,2020,45,53,52,106,98,64,0,0,0,0,0,0,\\r\\nFACEBOOK,ME GUSTA EN PUBLICACIONES ,2020,8771,9002,13556,15022,38953,16487,0,0,0,0,0,0,\\r\\nFACEBOOK,PUBLICACIONES COMPARTIDAS ,2020,2338,2680,2802,4214,8415,4240,0,0,0,0,0,0,\\r\\nFACEBOOK,COMENTARIOS (USUARIOS),2020,902,601,775,1100,2614,1268,0,0,0,0,0,0,\\r\\nTWITTER,SEGUIDORES (FOLLOWERS),2020,62404,63232,64149,65410,66355,67496,0,0,0,0,0,0,\\r\\nTWITTER,CRECIMIENTO DE FOLLOWERS,2020,863,828,917,1261,945,1141,0,0,0,0,0,0,\\r\\nTWITTER,PORCENTAJE DE CRECIMIENTO,2020,1%,1%,1%,2%,1%,1%,0%,0%,0%,0%,0%,0%,\\r\\nTWITTER,PUBLICACIONES ,2020,77,84,90,135,127,82,0,0,0,0,0,0,\\r\\nTWITTER,RETUITS,2020,563,601,748,847,1136,780,0,0,0,0,0,0,\\r\\nTWITTER,ME GUSTA,2020,1224,1225,1601,1994,2667,2069,0,0,0,0,0,0,\\r\\nTWITTER,IMPACTOS,2020,197275,220118,270310,311931,409684,284147,0,0,0,0,0,0,\\r\\nYOUTUBE,VIDEOS,2020,1,2,5,4,4,4,0,0,0,3,5,0,\\r\\nYOUTUBE,VISUALIZACIONES,2020,12226,15605,19602,19452,21805,17344,0,0,0,0,0,0,\\r\\nYOUTUBE,COMENTARIOS,2020,0,0,2,0,6,0,0,0,0,1,3,0,\\r\\nYOUTUBE,ME GUSTA,2020,4,15,15,8,30,33,0,0,0,8,23,0,\\r\\n'}"
            ]
          },
          "metadata": {},
          "execution_count": 12
        }
      ]
    },
    {
      "cell_type": "markdown",
      "source": [
        "##LEER EL ARCHIVO"
      ],
      "metadata": {
        "id": "76OiWuxBFeD6"
      }
    },
    {
      "cell_type": "code",
      "source": [
        "import pandas as pd\n",
        "presenciaredes= pd.read_csv('presenciaredes.csv',header=0)\n",
        "print(presenciaredes)"
      ],
      "metadata": {
        "id": "Kr4JOehjNbh6"
      },
      "execution_count": null,
      "outputs": []
    },
    {
      "cell_type": "code",
      "source": [
        "#esta parte del codigo lee e imprime el archivo .csv\n",
        "import pandas as pd\n",
        "presenciaredes= pd.read_csv('presenciaredes.csv',header=0)\n",
        "print(presenciaredes)"
      ],
      "metadata": {
        "colab": {
          "base_uri": "https://localhost:8080/"
        },
        "id": "5twdnPweAtkI",
        "outputId": "91bd8ea4-696d-4841-9d45-ec53e7ed4425"
      },
      "execution_count": 13,
      "outputs": [
        {
          "output_type": "stream",
          "name": "stdout",
          "text": [
            "   RED SOCIAL                    CONCEPTO   AÑO   ENERO FEBRERO   MARZO  \\\n",
            "0    FACEBOOK                  SEGUIDORES  2020  152107  156957  160595   \n",
            "1    FACEBOOK    CRECIMIENTO (SEGUIDORES)  2020     660    4850    3638   \n",
            "2    FACEBOOK  PORCENTAJE DE CRECIMIENTO   2020   0.43%      3%      2%   \n",
            "3    FACEBOOK              PUBLICACIONES   2020      45      53      52   \n",
            "4    FACEBOOK  ME GUSTA EN PUBLICACIONES   2020    8771    9002   13556   \n",
            "5    FACEBOOK  PUBLICACIONES COMPARTIDAS   2020    2338    2680    2802   \n",
            "6    FACEBOOK      COMENTARIOS (USUARIOS)  2020     902     601     775   \n",
            "7     TWITTER      SEGUIDORES (FOLLOWERS)  2020   62404   63232   64149   \n",
            "8     TWITTER    CRECIMIENTO DE FOLLOWERS  2020     863     828     917   \n",
            "9     TWITTER   PORCENTAJE DE CRECIMIENTO  2020      1%      1%      1%   \n",
            "10    TWITTER              PUBLICACIONES   2020      77      84      90   \n",
            "11    TWITTER                     RETUITS  2020     563     601     748   \n",
            "12    TWITTER                    ME GUSTA  2020    1224    1225    1601   \n",
            "13    TWITTER                    IMPACTOS  2020  197275  220118  270310   \n",
            "14    YOUTUBE                      VIDEOS  2020       1       2       5   \n",
            "15    YOUTUBE             VISUALIZACIONES  2020   12226   15605   19602   \n",
            "16    YOUTUBE                 COMENTARIOS  2020       0       0       2   \n",
            "17    YOUTUBE                    ME GUSTA  2020       4      15      15   \n",
            "\n",
            "     ABRIL    MAYO   JUNIO JULIO AGOSTO SEPTIEMBRE OCTUBRE NOVIEMBRE  \\\n",
            "0   165180  170488  178413     0      0          0       0         0   \n",
            "1     4585    5308    7925     0      0          0       0         0   \n",
            "2       3%      3%      4%    0%     0%         0%      0%        0%   \n",
            "3      106      98      64     0      0          0       0         0   \n",
            "4    15022   38953   16487     0      0          0       0         0   \n",
            "5     4214    8415    4240     0      0          0       0         0   \n",
            "6     1100    2614    1268     0      0          0       0         0   \n",
            "7    65410   66355   67496     0      0          0       0         0   \n",
            "8     1261     945    1141     0      0          0       0         0   \n",
            "9       2%      1%      1%    0%     0%         0%      0%        0%   \n",
            "10     135     127      82     0      0          0       0         0   \n",
            "11     847    1136     780     0      0          0       0         0   \n",
            "12    1994    2667    2069     0      0          0       0         0   \n",
            "13  311931  409684  284147     0      0          0       0         0   \n",
            "14       4       4       4     0      0          0       3         5   \n",
            "15   19452   21805   17344     0      0          0       0         0   \n",
            "16       0       6       0     0      0          0       1         3   \n",
            "17       8      30      33     0      0          0       8        23   \n",
            "\n",
            "   DICIEMBRE  Unnamed: 15  \n",
            "0          0          NaN  \n",
            "1          0          NaN  \n",
            "2         0%          NaN  \n",
            "3          0          NaN  \n",
            "4          0          NaN  \n",
            "5          0          NaN  \n",
            "6          0          NaN  \n",
            "7          0          NaN  \n",
            "8          0          NaN  \n",
            "9         0%          NaN  \n",
            "10         0          NaN  \n",
            "11         0          NaN  \n",
            "12         0          NaN  \n",
            "13         0          NaN  \n",
            "14         0          NaN  \n",
            "15         0          NaN  \n",
            "16         0          NaN  \n",
            "17         0          NaN  \n"
          ]
        }
      ]
    },
    {
      "cell_type": "markdown",
      "source": [
        "##MOSTRAR LA DIFERENCIA DE SEGUIDORES EN Twitter ENTRE ENERO Y JUNIO"
      ],
      "metadata": {
        "id": "Y_1kY9ZtFqLX"
      }
    },
    {
      "cell_type": "code",
      "source": [
        "##solamente colocaremos la linea que deseamos para el segundo requerimiento \n",
        "print(presenciaredes.loc[7:7])"
      ],
      "metadata": {
        "colab": {
          "base_uri": "https://localhost:8080/"
        },
        "id": "ReJIPKx6EUbR",
        "outputId": "bad9dd9d-8337-4fa9-c747-95b0566a4756"
      },
      "execution_count": 4,
      "outputs": [
        {
          "output_type": "stream",
          "name": "stdout",
          "text": [
            "  RED SOCIAL                CONCEPTO   AÑO  ENERO FEBRERO  MARZO  ABRIL  \\\n",
            "7    TWITTER  SEGUIDORES (FOLLOWERS)  2020  62404   63232  64149  65410   \n",
            "\n",
            "    MAYO  JUNIO JULIO AGOSTO SEPTIEMBRE OCTUBRE NOVIEMBRE DICIEMBRE  \\\n",
            "7  66355  67496     0      0          0       0         0         0   \n",
            "\n",
            "   Unnamed: 15  \n",
            "7          NaN  \n"
          ]
        }
      ]
    },
    {
      "cell_type": "code",
      "execution_count": 14,
      "metadata": {
        "colab": {
          "base_uri": "https://localhost:8080/"
        },
        "id": "TvZmbRhg0-3V",
        "outputId": "d99ee82c-9745-4deb-a4bb-1f59ebfe182e"
      },
      "outputs": [
        {
          "output_type": "stream",
          "name": "stdout",
          "text": [
            "64149.0\n",
            "67496.0\n",
            "Diferencia de seguidores 3347.0\n"
          ]
        }
      ],
      "source": [
        "##solo asignamos algunos valores a datos del archivo y restamos para el segundo \n",
        "##requerimiento \n",
        "enero=float(presenciaredes.iloc[7,5])\n",
        "junio=float(presenciaredes.iloc[7,8])\n",
        "print(enero)\n",
        "print(junio)\n",
        "print('Diferencia de seguidores', junio - enero)"
      ]
    },
    {
      "cell_type": "markdown",
      "source": [
        "##DIFERENCIA DE VISUALIZACIONES EN YOUTUBE "
      ],
      "metadata": {
        "id": "_wlKUifZF4nx"
      }
    },
    {
      "cell_type": "code",
      "source": [
        "##visualicaciones de Youtube\n",
        "print(presenciaredes.loc[15:15])"
      ],
      "metadata": {
        "colab": {
          "base_uri": "https://localhost:8080/"
        },
        "id": "aqexcar8E0_J",
        "outputId": "c904abd8-e07f-4b12-ec9e-9ab068644141"
      },
      "execution_count": 37,
      "outputs": [
        {
          "output_type": "stream",
          "name": "stdout",
          "text": [
            "   RED SOCIAL         CONCEPTO   AÑO  ENERO FEBRERO  MARZO  ABRIL   MAYO  \\\n",
            "15    YOUTUBE  VISUALIZACIONES  2020  12226   15605  19602  19452  21805   \n",
            "\n",
            "    JUNIO JULIO AGOSTO SEPTIEMBRE OCTUBRE NOVIEMBRE DICIEMBRE  Unnamed: 15  \n",
            "15  17344     0      0          0       0         0         0          NaN  \n"
          ]
        }
      ]
    },
    {
      "cell_type": "markdown",
      "source": [
        "###PROMEDIO DE CRECIMIENTO DE SEGUIDORES EN "
      ],
      "metadata": {
        "id": "z4mYtrRSGFqw"
      }
    },
    {
      "cell_type": "code",
      "source": [
        "##son todas las variables que voy a usar para mi calculo del promedio de crecimiento en Twitter\n",
        "eneT = float(presenciaredes.iloc[8,3])\n",
        "febT = float(presenciaredes.iloc[8,4])\n",
        "marT = float(presenciaredes.iloc[8,5])\n",
        "abrT = float(presenciaredes.iloc[8,6])\n",
        "mayT = float(presenciaredes.iloc[8,7])\n",
        "junT= float(presenciaredes.iloc[8,8])\n",
        "print(presenciaredes.loc[8:8])\n",
        "print(\"---------------------------------------------------------\")\n",
        "print(\"Crecimiento promedio de seguidores en Twitter: \",(eneT+febT+marT+abrT+mayT+junT)/6)"
      ],
      "metadata": {
        "colab": {
          "base_uri": "https://localhost:8080/"
        },
        "id": "zd47LNayoy0y",
        "outputId": "5ebf2915-1abf-4baa-f722-08039c472187"
      },
      "execution_count": 31,
      "outputs": [
        {
          "output_type": "stream",
          "name": "stdout",
          "text": [
            "  RED SOCIAL                  CONCEPTO   AÑO ENERO FEBRERO MARZO ABRIL MAYO  \\\n",
            "8    TWITTER  CRECIMIENTO DE FOLLOWERS  2020   863     828   917  1261  945   \n",
            "\n",
            "  JUNIO JULIO AGOSTO SEPTIEMBRE OCTUBRE NOVIEMBRE DICIEMBRE  Unnamed: 15  \n",
            "8  1141     0      0          0       0         0         0          NaN  \n",
            "-----------------------------------------------\n",
            "Crecimiento promedio de seguidores en Twitter:  992.5\n"
          ]
        }
      ]
    },
    {
      "cell_type": "code",
      "source": [
        "##son todas las variables que voy a usar para mi calculo del promedio de crecimiento en facebook\n",
        "eneF = float(presenciaredes.iloc[1,3])\n",
        "febF = float(presenciaredes.iloc[1,4])\n",
        "marF = float(presenciaredes.iloc[1,5])\n",
        "abrF = float(presenciaredes.iloc[1,6])\n",
        "mayF = float(presenciaredes.iloc[1,7])\n",
        "junF= float(presenciaredes.iloc[1,8])\n",
        "print(presenciaredes.loc[1:1])\n",
        "print(\"---------------------------------------------------------\")\n",
        "print(\"Crecimiento promedio de seguidores en Twitter: \",(eneF+febF+marF+abrF+mayF+junF)/6)"
      ],
      "metadata": {
        "colab": {
          "base_uri": "https://localhost:8080/"
        },
        "id": "ppD_YdhmDUVg",
        "outputId": "131337f6-71fa-42e2-924d-624d50477df9"
      },
      "execution_count": 36,
      "outputs": [
        {
          "output_type": "stream",
          "name": "stdout",
          "text": [
            "  RED SOCIAL                  CONCEPTO   AÑO ENERO FEBRERO MARZO ABRIL  MAYO  \\\n",
            "1   FACEBOOK  CRECIMIENTO (SEGUIDORES)  2020   660    4850  3638  4585  5308   \n",
            "\n",
            "  JUNIO JULIO AGOSTO SEPTIEMBRE OCTUBRE NOVIEMBRE DICIEMBRE  Unnamed: 15  \n",
            "1  7925     0      0          0       0         0         0          NaN  \n",
            "---------------------------------------------------------\n",
            "Crecimiento promedio de seguidores en Twitter:  4494.333333333333\n"
          ]
        }
      ]
    }
  ]
}